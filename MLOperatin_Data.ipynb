{
  "nbformat": 4,
  "nbformat_minor": 0,
  "metadata": {
    "colab": {
      "provenance": [],
      "mount_file_id": "1j6ZPyIkgJVHUjqclRYMttKwxIceXebKj",
      "authorship_tag": "ABX9TyOnfz3mrm43KnKfAEz3mbFY",
      "include_colab_link": true
    },
    "kernelspec": {
      "name": "python3",
      "display_name": "Python 3"
    },
    "language_info": {
      "name": "python"
    }
  },
  "cells": [
    {
      "cell_type": "markdown",
      "metadata": {
        "id": "view-in-github",
        "colab_type": "text"
      },
      "source": [
        "<a href=\"https://colab.research.google.com/github/zahra-ynp/MLOperation-FinalProject/blob/main/MLOperatin_Data.ipynb\" target=\"_parent\"><img src=\"https://colab.research.google.com/assets/colab-badge.svg\" alt=\"Open In Colab\"/></a>"
      ]
    },
    {
      "cell_type": "markdown",
      "source": [
        "# Step 1: Data Exploration and Validation"
      ],
      "metadata": {
        "id": "B_esdv54Tq7j"
      }
    },
    {
      "cell_type": "markdown",
      "source": [
        "1.1: Load and Inspect the Dataset"
      ],
      "metadata": {
        "id": "Eu7qfZ1pT5Wh"
      }
    },
    {
      "cell_type": "code",
      "execution_count": null,
      "metadata": {
        "id": "ckt7wTuXsPb2"
      },
      "outputs": [],
      "source": [
        "import pandas as pd\n",
        "import seaborn as sns\n",
        "import matplotlib.pyplot as plt\n",
        "\n",
        "\n",
        "# Load the dataset\n",
        "file_path = \"HR.csv\"\n",
        "data = pd.read_csv(file_path)\n",
        "\n",
        "print(\"\\nFirst 5 Rows of the Dataset:\")\n",
        "print(data.head())\n",
        "\n",
        "print(\"\\nDataset Info:\")\n",
        "print(data.info())\n",
        "\n",
        "print(\"\\nDataset Describe:\")\n",
        "print(data.describe())\n",
        "\n",
        "print(\"\\nUnique Values per Column:\")\n",
        "print(data.nunique())\n"
      ]
    },
    {
      "cell_type": "markdown",
      "source": [
        "1.2 Handle Missing Values\n"
      ],
      "metadata": {
        "id": "O4vi9BAoGe5Y"
      }
    },
    {
      "cell_type": "code",
      "source": [
        "missing_values = data.isnull().sum()\n",
        "print(\"\\nMissing Values per Column:\")\n",
        "print(missing_values)"
      ],
      "metadata": {
        "id": "TlTn5-edGBLG"
      },
      "execution_count": null,
      "outputs": []
    },
    {
      "cell_type": "markdown",
      "source": [
        "1.3: Analyze and Visualize Features\n"
      ],
      "metadata": {
        "id": "h-kXi10uGULF"
      }
    },
    {
      "cell_type": "code",
      "source": [
        "# Numerical features\n",
        "numerical_columns = ['satisfaction_level', 'last_evaluation', 'number_project',\n",
        "                     'average_montly_hours', 'time_spend_company']\n",
        "for column in numerical_columns:\n",
        "    plt.figure(figsize=(8, 4))\n",
        "    sns.histplot(data[column], kde=True, bins=20)\n",
        "    plt.title(f\"Distribution of {column}\")\n",
        "    plt.xlabel(column)\n",
        "    plt.ylabel(\"Frequency\")\n",
        "    plt.show()\n"
      ],
      "metadata": {
        "collapsed": true,
        "id": "RKhlHcg3GBrK"
      },
      "execution_count": null,
      "outputs": []
    },
    {
      "cell_type": "code",
      "source": [
        "# Categorical features\n",
        "categorical_columns = ['sales', 'salary']\n",
        "for column in categorical_columns:\n",
        "    plt.figure(figsize=(12, 4))\n",
        "    sns.countplot(data=data, x=column, hue=\"left\")  # \"left\" indicates resignation\n",
        "    plt.title(f\"{column} Distribution by Resignation (left)\")\n",
        "    plt.xlabel(column)\n",
        "    plt.ylabel(\"Count\")\n",
        "    plt.show()"
      ],
      "metadata": {
        "collapsed": true,
        "id": "d7aseCjcGB43"
      },
      "execution_count": null,
      "outputs": []
    },
    {
      "cell_type": "code",
      "source": [
        "# Correlation heatmap for numerical features\n",
        "ndata = data[data.columns[:-2]]\n",
        "# print(ndata.head())\n",
        "\n",
        "plt.figure(figsize=(10, 6))\n",
        "correlation_matrix = ndata.corr()\n",
        "sns.heatmap(correlation_matrix, annot=True, cmap=\"coolwarm\", fmt=\".2f\")\n",
        "plt.title(\"Correlation Matrix\")\n",
        "plt.show()\n"
      ],
      "metadata": {
        "id": "lKSD9YN-HmTv"
      },
      "execution_count": null,
      "outputs": []
    },
    {
      "cell_type": "markdown",
      "source": [
        "1.4: Check for Data Quality Issues"
      ],
      "metadata": {
        "id": "9WGGc_08NvYG"
      }
    },
    {
      "cell_type": "code",
      "source": [
        "duplicates = data.duplicated().sum()\n",
        "print(f\"\\nNumber of duplicate rows: {duplicates}\")\n",
        "\n",
        "# Outliers detection (boxplot)\n",
        "for column in numerical_columns:\n",
        "    plt.figure(figsize=(8, 4))\n",
        "    sns.boxplot(x=data[column])\n",
        "    plt.title(f\"Outliers in {column}\")\n",
        "    plt.xlabel(column)\n",
        "    plt.show()\n"
      ],
      "metadata": {
        "id": "o3a024ZgL61s"
      },
      "execution_count": null,
      "outputs": []
    },
    {
      "cell_type": "code",
      "source": [
        "# Check for inconsistencies in categorical columns\n",
        "print(\"\\nChecking for inconsistent values in categorical columns:\")\n",
        "for column in categorical_columns:\n",
        "    print(f\"Unique values in '{column}':\")\n",
        "    print(data[column].unique())"
      ],
      "metadata": {
        "id": "4nBIQsEnPSRu"
      },
      "execution_count": null,
      "outputs": []
    },
    {
      "cell_type": "markdown",
      "source": [
        "1.5: Target Variable Analysis"
      ],
      "metadata": {
        "id": "4u8zfqPrP_Ml"
      }
    },
    {
      "cell_type": "code",
      "source": [
        "# Check the balance of the target variable (left)\n",
        "plt.figure(figsize=(6, 4))\n",
        "sns.countplot(data=data, x=\"left\")\n",
        "plt.title(\"Target Variable Distribution (Resignation)\")\n",
        "plt.xlabel(\"Resigned (1 = Yes, 0 = No)\")\n",
        "plt.ylabel(\"Count\")\n",
        "plt.show()"
      ],
      "metadata": {
        "id": "_We3WyB4P-3Q"
      },
      "execution_count": null,
      "outputs": []
    },
    {
      "cell_type": "markdown",
      "source": [
        "# Step 2: Data Wrangling"
      ],
      "metadata": {
        "id": "S663YmJJTv69"
      }
    },
    {
      "cell_type": "code",
      "source": [
        "# Check for missing values\n",
        "print(\"\\nMissing Values per Column:\")\n",
        "print(data.isnull().sum())\n",
        "\n",
        "# sns.heatmap(data.isnull(), cbar=False, cmap=\"viridis\")\n",
        "# plt.title(\"Missing Values Heatmap\")\n",
        "# plt.show()\n",
        "\n",
        "#There is no missing value"
      ],
      "metadata": {
        "id": "CfU_aCmJ539T",
        "colab": {
          "base_uri": "https://localhost:8080/"
        },
        "outputId": "8a08f5f9-b53d-4051-80fe-b3d69a417a4e"
      },
      "execution_count": 4,
      "outputs": [
        {
          "output_type": "stream",
          "name": "stdout",
          "text": [
            "\n",
            "Missing Values per Column:\n",
            "satisfaction_level       0\n",
            "last_evaluation          0\n",
            "number_project           0\n",
            "average_montly_hours     0\n",
            "time_spend_company       0\n",
            "Work_accident            0\n",
            "left                     0\n",
            "promotion_last_5years    0\n",
            "sales                    0\n",
            "salary                   0\n",
            "dtype: int64\n"
          ]
        }
      ]
    }
  ]
}