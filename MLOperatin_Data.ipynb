{
  "nbformat": 4,
  "nbformat_minor": 0,
  "metadata": {
    "colab": {
      "provenance": [],
      "mount_file_id": "1j6ZPyIkgJVHUjqclRYMttKwxIceXebKj",
      "authorship_tag": "ABX9TyOwYV5rCSPVroqRlr+UN4gs",
      "include_colab_link": true
    },
    "kernelspec": {
      "name": "python3",
      "display_name": "Python 3"
    },
    "language_info": {
      "name": "python"
    }
  },
  "cells": [
    {
      "cell_type": "markdown",
      "metadata": {
        "id": "view-in-github",
        "colab_type": "text"
      },
      "source": [
        "<a href=\"https://colab.research.google.com/github/zahra-ynp/MLOperation-FinalProject/blob/main/MLOperatin_Data.ipynb\" target=\"_parent\"><img src=\"https://colab.research.google.com/assets/colab-badge.svg\" alt=\"Open In Colab\"/></a>"
      ]
    },
    {
      "cell_type": "markdown",
      "source": [
        "# Step 1: Data Exploration and Validation"
      ],
      "metadata": {
        "id": "B_esdv54Tq7j"
      }
    },
    {
      "cell_type": "markdown",
      "source": [
        "1.1: Load and Inspect the Dataset"
      ],
      "metadata": {
        "id": "Eu7qfZ1pT5Wh"
      }
    },
    {
      "cell_type": "code",
      "execution_count": null,
      "metadata": {
        "id": "ckt7wTuXsPb2"
      },
      "outputs": [],
      "source": [
        "import pandas as pd\n",
        "import seaborn as sns\n",
        "import matplotlib.pyplot as plt\n",
        "from sklearn.preprocessing import OneHotEncoder\n",
        "\n",
        "\n",
        "# Load the dataset\n",
        "file_path = \"HR.csv\"\n",
        "data = pd.read_csv(file_path)\n",
        "\n",
        "print(\"\\nFirst 5 Rows of the Dataset:\")\n",
        "print(data.head())\n",
        "\n",
        "print(\"\\nDataset Info:\")\n",
        "print(data.info())\n",
        "\n",
        "print(\"\\nDataset Describe:\")\n",
        "print(data.describe())\n",
        "\n",
        "print(\"\\nUnique Values per Column:\")\n",
        "print(data.nunique())\n"
      ]
    },
    {
      "cell_type": "markdown",
      "source": [
        "1.2 Handle Missing Values\n"
      ],
      "metadata": {
        "id": "O4vi9BAoGe5Y"
      }
    },
    {
      "cell_type": "code",
      "source": [
        "missing_values = data.isnull().sum()\n",
        "print(\"\\nMissing Values per Column:\")\n",
        "print(missing_values)"
      ],
      "metadata": {
        "id": "TlTn5-edGBLG"
      },
      "execution_count": null,
      "outputs": []
    },
    {
      "cell_type": "markdown",
      "source": [
        "1.3: Analyze and Visualize Features\n"
      ],
      "metadata": {
        "id": "h-kXi10uGULF"
      }
    },
    {
      "cell_type": "code",
      "source": [
        "# Numerical features\n",
        "numerical_columns = ['satisfaction_level', 'last_evaluation', 'number_project',\n",
        "                     'average_montly_hours', 'time_spend_company']\n",
        "for column in numerical_columns:\n",
        "    plt.figure(figsize=(8, 4))\n",
        "    sns.histplot(data[column], kde=True, bins=20)\n",
        "    plt.title(f\"Distribution of {column}\")\n",
        "    plt.xlabel(column)\n",
        "    plt.ylabel(\"Frequency\")\n",
        "    plt.show()\n"
      ],
      "metadata": {
        "collapsed": true,
        "id": "RKhlHcg3GBrK"
      },
      "execution_count": null,
      "outputs": []
    },
    {
      "cell_type": "code",
      "source": [
        "# Categorical features\n",
        "categorical_columns = ['sales', 'salary']\n",
        "for column in categorical_columns:\n",
        "    plt.figure(figsize=(12, 4))\n",
        "    sns.countplot(data=data, x=column, hue=\"left\")  # \"left\" indicates resignation\n",
        "    plt.title(f\"{column} Distribution by Resignation (left)\")\n",
        "    plt.xlabel(column)\n",
        "    plt.ylabel(\"Count\")\n",
        "    plt.show()"
      ],
      "metadata": {
        "collapsed": true,
        "id": "d7aseCjcGB43"
      },
      "execution_count": null,
      "outputs": []
    },
    {
      "cell_type": "code",
      "source": [
        "# Correlation heatmap for numerical features\n",
        "ndata = data[data.columns[:-2]]\n",
        "# print(ndata.head())\n",
        "\n",
        "plt.figure(figsize=(10, 6))\n",
        "correlation_matrix = ndata.corr()\n",
        "sns.heatmap(correlation_matrix, annot=True, cmap=\"coolwarm\", fmt=\".2f\")\n",
        "plt.title(\"Correlation Matrix\")\n",
        "plt.show()\n"
      ],
      "metadata": {
        "id": "lKSD9YN-HmTv"
      },
      "execution_count": null,
      "outputs": []
    },
    {
      "cell_type": "markdown",
      "source": [
        "1.4: Check for Data Quality Issues"
      ],
      "metadata": {
        "id": "9WGGc_08NvYG"
      }
    },
    {
      "cell_type": "code",
      "source": [
        "duplicates = data.duplicated().sum()\n",
        "print(f\"\\nNumber of duplicate rows: {duplicates}\")\n",
        "\n",
        "# Outliers detection (boxplot)\n",
        "for column in numerical_columns:\n",
        "    plt.figure(figsize=(8, 4))\n",
        "    sns.boxplot(x=data[column])\n",
        "    plt.title(f\"Outliers in {column}\")\n",
        "    plt.xlabel(column)\n",
        "    plt.show()\n"
      ],
      "metadata": {
        "id": "o3a024ZgL61s"
      },
      "execution_count": null,
      "outputs": []
    },
    {
      "cell_type": "code",
      "source": [
        "# Check for inconsistencies in categorical columns\n",
        "print(\"\\nChecking for inconsistent values in categorical columns:\")\n",
        "for column in categorical_columns:\n",
        "    print(f\"Unique values in '{column}':\")\n",
        "    print(data[column].unique())"
      ],
      "metadata": {
        "id": "4nBIQsEnPSRu"
      },
      "execution_count": null,
      "outputs": []
    },
    {
      "cell_type": "markdown",
      "source": [
        "1.5: Target Variable Analysis"
      ],
      "metadata": {
        "id": "4u8zfqPrP_Ml"
      }
    },
    {
      "cell_type": "code",
      "source": [
        "# Check the balance of the target variable (left)\n",
        "plt.figure(figsize=(6, 4))\n",
        "sns.countplot(data=data, x=\"left\")\n",
        "plt.title(\"Target Variable Distribution (Resignation)\")\n",
        "plt.xlabel(\"Resigned (1 = Yes, 0 = No)\")\n",
        "plt.ylabel(\"Count\")\n",
        "plt.show()"
      ],
      "metadata": {
        "id": "_We3WyB4P-3Q"
      },
      "execution_count": null,
      "outputs": []
    },
    {
      "cell_type": "markdown",
      "source": [
        "# Step 2: Data Wrangling"
      ],
      "metadata": {
        "id": "S663YmJJTv69"
      }
    },
    {
      "cell_type": "markdown",
      "source": [
        "2.1 Handle Missing Values"
      ],
      "metadata": {
        "id": "8GMQQu1E1KUi"
      }
    },
    {
      "cell_type": "code",
      "source": [
        "# Check for missing values\n",
        "print(\"\\nMissing Values per Column:\")\n",
        "print(data.isnull().sum())\n",
        "\n",
        "# sns.heatmap(data.isnull(), cbar=False, cmap=\"viridis\")\n",
        "# plt.title(\"Missing Values Heatmap\")\n",
        "# plt.show()\n",
        "\n",
        "#There is no missing value"
      ],
      "metadata": {
        "id": "CfU_aCmJ539T"
      },
      "execution_count": null,
      "outputs": []
    },
    {
      "cell_type": "markdown",
      "source": [
        "2.2 Feature Engineering and Encoding"
      ],
      "metadata": {
        "id": "AFVQA9d21NtT"
      }
    },
    {
      "cell_type": "code",
      "source": [
        "# Encoding categorical variables\n",
        "\n",
        "encoder = OneHotEncoder(sparse_output=False)\n",
        "encoded_array = encoder.fit_transform(data[categorical_columns])\n",
        "\n",
        "encoded_columns = encoder.get_feature_names_out(categorical_columns)\n",
        "encoded_data = pd.DataFrame(encoded_array, columns=encoded_columns)\n",
        "encoded_data.index = data.index\n",
        "\n",
        "# Drop original categorical columns and concatenate with encoded columns\n",
        "data_encoded = data.drop(columns=categorical_columns).reset_index(drop=True)\n",
        "data_final = pd.concat([data_encoded, encoded_data], axis=1)\n",
        "\n",
        "print(\"\\nData After Encoding:\")\n",
        "print(data_final.head())"
      ],
      "metadata": {
        "colab": {
          "base_uri": "https://localhost:8080/"
        },
        "id": "PAjMq9iD1Ib2",
        "outputId": "5c827eb6-5c97-4ba9-ca6b-4981db985d75"
      },
      "execution_count": 20,
      "outputs": [
        {
          "output_type": "stream",
          "name": "stdout",
          "text": [
            "\n",
            "Data After Encoding:\n",
            "   satisfaction_level  last_evaluation  number_project  average_montly_hours  \\\n",
            "0                0.38             0.53               2                   157   \n",
            "1                0.80             0.86               5                   262   \n",
            "2                0.11             0.88               7                   272   \n",
            "3                0.72             0.87               5                   223   \n",
            "4                0.37             0.52               2                   159   \n",
            "\n",
            "   time_spend_company  Work_accident  left  promotion_last_5years  sales_IT  \\\n",
            "0                   3              0     1                      0       0.0   \n",
            "1                   6              0     1                      0       0.0   \n",
            "2                   4              0     1                      0       0.0   \n",
            "3                   5              0     1                      0       0.0   \n",
            "4                   3              0     1                      0       0.0   \n",
            "\n",
            "   sales_RandD  ...  sales_hr  sales_management  sales_marketing  \\\n",
            "0          0.0  ...       0.0               0.0              0.0   \n",
            "1          0.0  ...       0.0               0.0              0.0   \n",
            "2          0.0  ...       0.0               0.0              0.0   \n",
            "3          0.0  ...       0.0               0.0              0.0   \n",
            "4          0.0  ...       0.0               0.0              0.0   \n",
            "\n",
            "   sales_product_mng  sales_sales  sales_support  sales_technical  \\\n",
            "0                0.0          1.0            0.0              0.0   \n",
            "1                0.0          1.0            0.0              0.0   \n",
            "2                0.0          1.0            0.0              0.0   \n",
            "3                0.0          1.0            0.0              0.0   \n",
            "4                0.0          1.0            0.0              0.0   \n",
            "\n",
            "   salary_high  salary_low  salary_medium  \n",
            "0          0.0         1.0            0.0  \n",
            "1          0.0         0.0            1.0  \n",
            "2          0.0         0.0            1.0  \n",
            "3          0.0         1.0            0.0  \n",
            "4          0.0         1.0            0.0  \n",
            "\n",
            "[5 rows x 21 columns]\n"
          ]
        }
      ]
    }
  ]
}