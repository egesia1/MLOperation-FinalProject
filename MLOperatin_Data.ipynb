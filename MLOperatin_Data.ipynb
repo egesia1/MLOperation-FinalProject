{
  "nbformat": 4,
  "nbformat_minor": 0,
  "metadata": {
    "colab": {
      "provenance": [],
      "authorship_tag": "ABX9TyOjOJWFMmVsjXPzHD2J1NA/",
      "include_colab_link": true
    },
    "kernelspec": {
      "name": "python3",
      "display_name": "Python 3"
    },
    "language_info": {
      "name": "python"
    }
  },
  "cells": [
    {
      "cell_type": "markdown",
      "metadata": {
        "id": "view-in-github",
        "colab_type": "text"
      },
      "source": [
        "<a href=\"https://colab.research.google.com/github/zahra-ynp/MLOperation-FinalProject/blob/main/MLOperatin_Data.ipynb\" target=\"_parent\"><img src=\"https://colab.research.google.com/assets/colab-badge.svg\" alt=\"Open In Colab\"/></a>"
      ]
    },
    {
      "cell_type": "code",
      "execution_count": 12,
      "metadata": {
        "colab": {
          "base_uri": "https://localhost:8080/"
        },
        "id": "ckt7wTuXsPb2",
        "outputId": "643ae71f-8ce0-4557-8c27-6c9d55892cc7"
      },
      "outputs": [
        {
          "output_type": "stream",
          "name": "stdout",
          "text": [
            "\n",
            "First 5 Rows of the Dataset:\n",
            "   satisfaction_level  last_evaluation  number_project  average_montly_hours  \\\n",
            "0                0.38             0.53               2                   157   \n",
            "1                0.80             0.86               5                   262   \n",
            "2                0.11             0.88               7                   272   \n",
            "3                0.72             0.87               5                   223   \n",
            "4                0.37             0.52               2                   159   \n",
            "\n",
            "   time_spend_company  Work_accident  left  promotion_last_5years  sales  \\\n",
            "0                   3              0     1                      0  sales   \n",
            "1                   6              0     1                      0  sales   \n",
            "2                   4              0     1                      0  sales   \n",
            "3                   5              0     1                      0  sales   \n",
            "4                   3              0     1                      0  sales   \n",
            "\n",
            "   salary  \n",
            "0     low  \n",
            "1  medium  \n",
            "2  medium  \n",
            "3     low  \n",
            "4     low  \n",
            "\n",
            "Dataset Info:\n",
            "<class 'pandas.core.frame.DataFrame'>\n",
            "RangeIndex: 14999 entries, 0 to 14998\n",
            "Data columns (total 10 columns):\n",
            " #   Column                 Non-Null Count  Dtype  \n",
            "---  ------                 --------------  -----  \n",
            " 0   satisfaction_level     14999 non-null  float64\n",
            " 1   last_evaluation        14999 non-null  float64\n",
            " 2   number_project         14999 non-null  int64  \n",
            " 3   average_montly_hours   14999 non-null  int64  \n",
            " 4   time_spend_company     14999 non-null  int64  \n",
            " 5   Work_accident          14999 non-null  int64  \n",
            " 6   left                   14999 non-null  int64  \n",
            " 7   promotion_last_5years  14999 non-null  int64  \n",
            " 8   sales                  14999 non-null  object \n",
            " 9   salary                 14999 non-null  object \n",
            "dtypes: float64(2), int64(6), object(2)\n",
            "memory usage: 1.1+ MB\n",
            "None\n",
            "\n",
            "Dataset Describe:\n",
            "       satisfaction_level  last_evaluation  number_project  \\\n",
            "count        14999.000000     14999.000000    14999.000000   \n",
            "mean             0.612834         0.716102        3.803054   \n",
            "std              0.248631         0.171169        1.232592   \n",
            "min              0.090000         0.360000        2.000000   \n",
            "25%              0.440000         0.560000        3.000000   \n",
            "50%              0.640000         0.720000        4.000000   \n",
            "75%              0.820000         0.870000        5.000000   \n",
            "max              1.000000         1.000000        7.000000   \n",
            "\n",
            "       average_montly_hours  time_spend_company  Work_accident          left  \\\n",
            "count          14999.000000        14999.000000   14999.000000  14999.000000   \n",
            "mean             201.050337            3.498233       0.144610      0.238083   \n",
            "std               49.943099            1.460136       0.351719      0.425924   \n",
            "min               96.000000            2.000000       0.000000      0.000000   \n",
            "25%              156.000000            3.000000       0.000000      0.000000   \n",
            "50%              200.000000            3.000000       0.000000      0.000000   \n",
            "75%              245.000000            4.000000       0.000000      0.000000   \n",
            "max              310.000000           10.000000       1.000000      1.000000   \n",
            "\n",
            "       promotion_last_5years  \n",
            "count           14999.000000  \n",
            "mean                0.021268  \n",
            "std                 0.144281  \n",
            "min                 0.000000  \n",
            "25%                 0.000000  \n",
            "50%                 0.000000  \n",
            "75%                 0.000000  \n",
            "max                 1.000000  \n"
          ]
        }
      ],
      "source": [
        "# Step 1: Data Exploration and Validation\n",
        "\n",
        "import pandas as pd\n",
        "\n",
        "# Load the dataset\n",
        "file_path = \"HR.csv\"\n",
        "data = pd.read_csv(file_path)\n",
        "\n",
        "# 1.1: Load and Inspect the Dataset\n",
        "print(\"\\nFirst 5 Rows of the Dataset:\")\n",
        "print(data.head())\n",
        "\n",
        "print(\"\\nDataset Info:\")\n",
        "print(data.info())\n",
        "\n",
        "print(\"\\nDataset Describe:\")\n",
        "print(data.describe())\n",
        "\n"
      ]
    },
    {
      "cell_type": "markdown",
      "source": [
        "# New Section"
      ],
      "metadata": {
        "id": "BqaQ3QDJsgri"
      }
    }
  ]
}