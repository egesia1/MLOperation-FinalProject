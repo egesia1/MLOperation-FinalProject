{
  "nbformat": 4,
  "nbformat_minor": 0,
  "metadata": {
    "colab": {
      "provenance": [],
      "mount_file_id": "1j6ZPyIkgJVHUjqclRYMttKwxIceXebKj",
      "authorship_tag": "ABX9TyMMZJORRRZmIkWeDSntQ/rf",
      "include_colab_link": true
    },
    "kernelspec": {
      "name": "python3",
      "display_name": "Python 3"
    },
    "language_info": {
      "name": "python"
    }
  },
  "cells": [
    {
      "cell_type": "markdown",
      "metadata": {
        "id": "view-in-github",
        "colab_type": "text"
      },
      "source": [
        "<a href=\"https://colab.research.google.com/github/zahra-ynp/MLOperation-FinalProject/blob/main/MLOperatin_Data.ipynb\" target=\"_parent\"><img src=\"https://colab.research.google.com/assets/colab-badge.svg\" alt=\"Open In Colab\"/></a>"
      ]
    },
    {
      "cell_type": "markdown",
      "source": [
        "# Step 1: Data Exploration and Validation"
      ],
      "metadata": {
        "id": "B_esdv54Tq7j"
      }
    },
    {
      "cell_type": "markdown",
      "source": [
        "1.1: Load and Inspect the Dataset"
      ],
      "metadata": {
        "id": "Eu7qfZ1pT5Wh"
      }
    },
    {
      "cell_type": "code",
      "execution_count": 21,
      "metadata": {
        "id": "ckt7wTuXsPb2",
        "colab": {
          "base_uri": "https://localhost:8080/"
        },
        "outputId": "aefa4953-3695-4517-c883-43b258ce5f14"
      },
      "outputs": [
        {
          "output_type": "stream",
          "name": "stdout",
          "text": [
            "\n",
            "First 5 Rows of the Dataset:\n",
            "   satisfaction_level  last_evaluation  number_project  average_montly_hours  \\\n",
            "0                0.38             0.53               2                   157   \n",
            "1                0.80             0.86               5                   262   \n",
            "2                0.11             0.88               7                   272   \n",
            "3                0.72             0.87               5                   223   \n",
            "4                0.37             0.52               2                   159   \n",
            "\n",
            "   time_spend_company  Work_accident  left  promotion_last_5years  sales  \\\n",
            "0                   3              0     1                      0  sales   \n",
            "1                   6              0     1                      0  sales   \n",
            "2                   4              0     1                      0  sales   \n",
            "3                   5              0     1                      0  sales   \n",
            "4                   3              0     1                      0  sales   \n",
            "\n",
            "   salary  \n",
            "0     low  \n",
            "1  medium  \n",
            "2  medium  \n",
            "3     low  \n",
            "4     low  \n",
            "\n",
            "Dataset Info:\n",
            "<class 'pandas.core.frame.DataFrame'>\n",
            "RangeIndex: 14999 entries, 0 to 14998\n",
            "Data columns (total 10 columns):\n",
            " #   Column                 Non-Null Count  Dtype  \n",
            "---  ------                 --------------  -----  \n",
            " 0   satisfaction_level     14999 non-null  float64\n",
            " 1   last_evaluation        14999 non-null  float64\n",
            " 2   number_project         14999 non-null  int64  \n",
            " 3   average_montly_hours   14999 non-null  int64  \n",
            " 4   time_spend_company     14999 non-null  int64  \n",
            " 5   Work_accident          14999 non-null  int64  \n",
            " 6   left                   14999 non-null  int64  \n",
            " 7   promotion_last_5years  14999 non-null  int64  \n",
            " 8   sales                  14999 non-null  object \n",
            " 9   salary                 14999 non-null  object \n",
            "dtypes: float64(2), int64(6), object(2)\n",
            "memory usage: 1.1+ MB\n",
            "None\n",
            "\n",
            "Dataset Describe:\n",
            "       satisfaction_level  last_evaluation  number_project  \\\n",
            "count        14999.000000     14999.000000    14999.000000   \n",
            "mean             0.612834         0.716102        3.803054   \n",
            "std              0.248631         0.171169        1.232592   \n",
            "min              0.090000         0.360000        2.000000   \n",
            "25%              0.440000         0.560000        3.000000   \n",
            "50%              0.640000         0.720000        4.000000   \n",
            "75%              0.820000         0.870000        5.000000   \n",
            "max              1.000000         1.000000        7.000000   \n",
            "\n",
            "       average_montly_hours  time_spend_company  Work_accident          left  \\\n",
            "count          14999.000000        14999.000000   14999.000000  14999.000000   \n",
            "mean             201.050337            3.498233       0.144610      0.238083   \n",
            "std               49.943099            1.460136       0.351719      0.425924   \n",
            "min               96.000000            2.000000       0.000000      0.000000   \n",
            "25%              156.000000            3.000000       0.000000      0.000000   \n",
            "50%              200.000000            3.000000       0.000000      0.000000   \n",
            "75%              245.000000            4.000000       0.000000      0.000000   \n",
            "max              310.000000           10.000000       1.000000      1.000000   \n",
            "\n",
            "       promotion_last_5years  \n",
            "count           14999.000000  \n",
            "mean                0.021268  \n",
            "std                 0.144281  \n",
            "min                 0.000000  \n",
            "25%                 0.000000  \n",
            "50%                 0.000000  \n",
            "75%                 0.000000  \n",
            "max                 1.000000  \n",
            "\n",
            "Unique Values per Column:\n",
            "satisfaction_level        92\n",
            "last_evaluation           65\n",
            "number_project             6\n",
            "average_montly_hours     215\n",
            "time_spend_company         8\n",
            "Work_accident              2\n",
            "left                       2\n",
            "promotion_last_5years      2\n",
            "sales                     10\n",
            "salary                     3\n",
            "dtype: int64\n"
          ]
        }
      ],
      "source": [
        "import pandas as pd\n",
        "import seaborn as sns\n",
        "import matplotlib.pyplot as plt\n",
        "from sklearn.preprocessing import StandardScaler,OneHotEncoder\n",
        "from sklearn.model_selection import train_test_split\n",
        "\n",
        "\n",
        "\n",
        "# Load the dataset\n",
        "file_path = \"HR.csv\"\n",
        "data = pd.read_csv(file_path)\n",
        "\n",
        "print(\"\\nFirst 5 Rows of the Dataset:\")\n",
        "print(data.head())\n",
        "\n",
        "print(\"\\nDataset Info:\")\n",
        "print(data.info())\n",
        "\n",
        "print(\"\\nDataset Describe:\")\n",
        "print(data.describe())\n",
        "\n",
        "print(\"\\nUnique Values per Column:\")\n",
        "print(data.nunique())\n"
      ]
    },
    {
      "cell_type": "markdown",
      "source": [
        "1.2 Handle Missing Values\n"
      ],
      "metadata": {
        "id": "O4vi9BAoGe5Y"
      }
    },
    {
      "cell_type": "code",
      "source": [
        "missing_values = data.isnull().sum()\n",
        "print(\"\\nMissing Values per Column:\")\n",
        "print(missing_values)"
      ],
      "metadata": {
        "id": "TlTn5-edGBLG"
      },
      "execution_count": null,
      "outputs": []
    },
    {
      "cell_type": "markdown",
      "source": [
        "1.3: Analyze and Visualize Features\n"
      ],
      "metadata": {
        "id": "h-kXi10uGULF"
      }
    },
    {
      "cell_type": "code",
      "source": [
        "# Numerical features\n",
        "numerical_columns = ['satisfaction_level', 'last_evaluation', 'number_project',\n",
        "                     'average_montly_hours', 'time_spend_company']\n",
        "for column in numerical_columns:\n",
        "    plt.figure(figsize=(8, 4))\n",
        "    sns.histplot(data[column], kde=True, bins=20)\n",
        "    plt.title(f\"Distribution of {column}\")\n",
        "    plt.xlabel(column)\n",
        "    plt.ylabel(\"Frequency\")\n",
        "    plt.show()\n"
      ],
      "metadata": {
        "collapsed": true,
        "id": "RKhlHcg3GBrK"
      },
      "execution_count": null,
      "outputs": []
    },
    {
      "cell_type": "code",
      "source": [
        "# Categorical features\n",
        "categorical_columns = ['sales', 'salary']\n",
        "for column in categorical_columns:\n",
        "    plt.figure(figsize=(12, 4))\n",
        "    sns.countplot(data=data, x=column, hue=\"left\")  # \"left\" indicates resignation\n",
        "    plt.title(f\"{column} Distribution by Resignation (left)\")\n",
        "    plt.xlabel(column)\n",
        "    plt.ylabel(\"Count\")\n",
        "    plt.show()"
      ],
      "metadata": {
        "collapsed": true,
        "id": "d7aseCjcGB43"
      },
      "execution_count": null,
      "outputs": []
    },
    {
      "cell_type": "code",
      "source": [
        "# Correlation heatmap for numerical features\n",
        "ndata = data[data.columns[:-2]]\n",
        "# print(ndata.head())\n",
        "\n",
        "plt.figure(figsize=(10, 6))\n",
        "correlation_matrix = ndata.corr()\n",
        "sns.heatmap(correlation_matrix, annot=True, cmap=\"coolwarm\", fmt=\".2f\")\n",
        "plt.title(\"Correlation Matrix\")\n",
        "plt.show()\n"
      ],
      "metadata": {
        "id": "lKSD9YN-HmTv"
      },
      "execution_count": null,
      "outputs": []
    },
    {
      "cell_type": "markdown",
      "source": [
        "1.4: Check for Data Quality Issues"
      ],
      "metadata": {
        "id": "9WGGc_08NvYG"
      }
    },
    {
      "cell_type": "code",
      "source": [
        "duplicates = data.duplicated().sum()\n",
        "print(f\"\\nNumber of duplicate rows: {duplicates}\")\n",
        "\n",
        "# Outliers detection (boxplot)\n",
        "for column in numerical_columns:\n",
        "    plt.figure(figsize=(8, 4))\n",
        "    sns.boxplot(x=data[column])\n",
        "    plt.title(f\"Outliers in {column}\")\n",
        "    plt.xlabel(column)\n",
        "    plt.show()\n"
      ],
      "metadata": {
        "id": "o3a024ZgL61s"
      },
      "execution_count": null,
      "outputs": []
    },
    {
      "cell_type": "code",
      "source": [
        "# Check for inconsistencies in categorical columns\n",
        "print(\"\\nChecking for inconsistent values in categorical columns:\")\n",
        "for column in categorical_columns:\n",
        "    print(f\"Unique values in '{column}':\")\n",
        "    print(data[column].unique())"
      ],
      "metadata": {
        "id": "4nBIQsEnPSRu"
      },
      "execution_count": null,
      "outputs": []
    },
    {
      "cell_type": "markdown",
      "source": [
        "1.5: Target Variable Analysis"
      ],
      "metadata": {
        "id": "4u8zfqPrP_Ml"
      }
    },
    {
      "cell_type": "code",
      "source": [
        "# Check the balance of the target variable (left)\n",
        "plt.figure(figsize=(6, 4))\n",
        "sns.countplot(data=data, x=\"left\")\n",
        "plt.title(\"Target Variable Distribution (Resignation)\")\n",
        "plt.xlabel(\"Resigned (1 = Yes, 0 = No)\")\n",
        "plt.ylabel(\"Count\")\n",
        "plt.show()"
      ],
      "metadata": {
        "id": "_We3WyB4P-3Q"
      },
      "execution_count": null,
      "outputs": []
    },
    {
      "cell_type": "markdown",
      "source": [
        "# Step 2: Data Wrangling"
      ],
      "metadata": {
        "id": "S663YmJJTv69"
      }
    },
    {
      "cell_type": "markdown",
      "source": [
        "2.1 Handle Missing Values"
      ],
      "metadata": {
        "id": "8GMQQu1E1KUi"
      }
    },
    {
      "cell_type": "code",
      "source": [
        "# Check for missing values\n",
        "print(\"\\nMissing Values per Column:\")\n",
        "print(data.isnull().sum())\n",
        "\n",
        "# sns.heatmap(data.isnull(), cbar=False, cmap=\"viridis\")\n",
        "# plt.title(\"Missing Values Heatmap\")\n",
        "# plt.show()\n",
        "\n",
        "#There is no missing value"
      ],
      "metadata": {
        "id": "CfU_aCmJ539T"
      },
      "execution_count": null,
      "outputs": []
    },
    {
      "cell_type": "markdown",
      "source": [
        "2.2 Feature Engineering and Encoding"
      ],
      "metadata": {
        "id": "AFVQA9d21NtT"
      }
    },
    {
      "cell_type": "code",
      "source": [
        "# Encoding categorical variables\n",
        "\n",
        "encoder = OneHotEncoder(sparse_output=False)\n",
        "encoded_array = encoder.fit_transform(data[categorical_columns])\n",
        "\n",
        "encoded_columns = encoder.get_feature_names_out(categorical_columns)\n",
        "encoded_data = pd.DataFrame(encoded_array, columns=encoded_columns)\n",
        "encoded_data.index = data.index\n",
        "\n",
        "# Drop original categorical columns and concatenate with encoded columns\n",
        "data_encoded = data.drop(columns=categorical_columns).reset_index(drop=True)\n",
        "data_final = pd.concat([data_encoded, encoded_data], axis=1)\n",
        "\n",
        "print(\"\\nData After Encoding:\")\n",
        "print(data_final.head())"
      ],
      "metadata": {
        "id": "PAjMq9iD1Ib2"
      },
      "execution_count": null,
      "outputs": []
    },
    {
      "cell_type": "markdown",
      "source": [
        "2.3 Data Splitting"
      ],
      "metadata": {
        "id": "5wySnO3ReHkJ"
      }
    },
    {
      "cell_type": "code",
      "source": [
        "# Features (X) and Target (y)\n",
        "X = data_final.drop('left', axis=1)\n",
        "y = data_final['left']\n",
        "\n",
        "# Step 1: Split into Training (70%) and Temp (30%)\n",
        "X_train, X_temp, y_train, y_temp = train_test_split(X, y, test_size=0.3, random_state=42, stratify=y)\n",
        "\n",
        "# Step 2: Split Temp into Validation (15%) and Test (15%)\n",
        "X_val, X_test, y_val, y_test = train_test_split(X_temp, y_temp, test_size=0.5, random_state=42, stratify=y_temp)\n",
        "\n",
        "print(\"Training set:\", X_train.shape, y_train.shape)\n",
        "print(\"Validation set:\", X_val.shape, y_val.shape)\n",
        "print(\"Test set:\", X_test.shape, y_test.shape)\n"
      ],
      "metadata": {
        "id": "6P980yWe7sLe"
      },
      "execution_count": null,
      "outputs": []
    },
    {
      "cell_type": "markdown",
      "source": [
        "2.4 Scaling Numerical Features"
      ],
      "metadata": {
        "id": "bbYmELddmQzO"
      }
    },
    {
      "cell_type": "code",
      "source": [
        "scaler = StandardScaler()\n",
        "X_train[numerical_columns] = scaler.fit_transform(X_train[numerical_columns])\n",
        "X_test[numerical_columns] = scaler.transform(X_test[numerical_columns])\n",
        "X_val[numerical_columns] = scaler.transform(X_val[numerical_columns])\n",
        "\n",
        "print(\"\\nScaled Numerical Features in Training Data:\")\n",
        "print(X_train[numerical_columns].head())"
      ],
      "metadata": {
        "colab": {
          "base_uri": "https://localhost:8080/"
        },
        "id": "GCmQX34AmUcx",
        "outputId": "4c20089e-4c5a-4e3f-be3f-f3a95fb0fa8a"
      },
      "execution_count": 28,
      "outputs": [
        {
          "output_type": "stream",
          "name": "stdout",
          "text": [
            "\n",
            "Scaled Numerical Features in Training Data:\n",
            "       satisfaction_level  last_evaluation  number_project  \\\n",
            "9047             0.634516         0.426710       -0.646955   \n",
            "12494            0.916311         1.652195        0.974719   \n",
            "12427           -0.251124        -0.682063       -0.646955   \n",
            "13785           -0.492662        -1.148915        0.163882   \n",
            "13190            1.439644        -0.506994        0.974719   \n",
            "\n",
            "       average_montly_hours  time_spend_company  Work_accident  \n",
            "9047               1.448411           -1.032532      -0.415547  \n",
            "12494              0.346103            1.023978      -0.415547  \n",
            "12427             -0.415493            0.338475      -0.415547  \n",
            "13785             -0.796290            2.394985      -0.415547  \n",
            "13190              1.147781           -1.032532      -0.415547  \n"
          ]
        }
      ]
    }
  ]
}