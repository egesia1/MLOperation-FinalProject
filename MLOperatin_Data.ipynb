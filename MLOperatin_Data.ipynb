{
  "nbformat": 4,
  "nbformat_minor": 0,
  "metadata": {
    "colab": {
      "provenance": [],
      "authorship_tag": "ABX9TyO6/kwTdi1ZUuI0bGtS/BFg",
      "include_colab_link": true
    },
    "kernelspec": {
      "name": "python3",
      "display_name": "Python 3"
    },
    "language_info": {
      "name": "python"
    }
  },
  "cells": [
    {
      "cell_type": "markdown",
      "metadata": {
        "id": "view-in-github",
        "colab_type": "text"
      },
      "source": [
        "<a href=\"https://colab.research.google.com/github/zahra-ynp/MLOperation-FinalProject/blob/main/MLOperatin_Data.ipynb\" target=\"_parent\"><img src=\"https://colab.research.google.com/assets/colab-badge.svg\" alt=\"Open In Colab\"/></a>"
      ]
    },
    {
      "cell_type": "markdown",
      "source": [
        "# New Section"
      ],
      "metadata": {
        "id": "BqaQ3QDJsgri"
      }
    },
    {
      "cell_type": "code",
      "execution_count": 14,
      "metadata": {
        "colab": {
          "base_uri": "https://localhost:8080/"
        },
        "id": "ckt7wTuXsPb2",
        "outputId": "1478f5e0-4378-41a0-9d1d-c72f13c6f99a"
      },
      "outputs": [
        {
          "output_type": "stream",
          "name": "stdout",
          "text": [
            "\n",
            "Missing Values per Column:\n",
            "satisfaction_level       0\n",
            "last_evaluation          0\n",
            "number_project           0\n",
            "average_montly_hours     0\n",
            "time_spend_company       0\n",
            "Work_accident            0\n",
            "left                     0\n",
            "promotion_last_5years    0\n",
            "sales                    0\n",
            "salary                   0\n",
            "dtype: int64\n"
          ]
        }
      ],
      "source": [
        "# Step 1: Data Exploration and Validation\n",
        "\n",
        "import pandas as pd\n",
        "\n",
        "# Load the dataset\n",
        "file_path = \"HR.csv\"\n",
        "data = pd.read_csv(file_path)\n",
        "\n",
        "# 1.1: Load and Inspect the Dataset\n",
        "# print(\"\\nFirst 5 Rows of the Dataset:\")\n",
        "# print(data.head())\n",
        "\n",
        "# print(\"\\nDataset Info:\")\n",
        "# print(data.info())\n",
        "\n",
        "# print(\"\\nDataset Describe:\")\n",
        "# print(data.describe())\n",
        "\n",
        "# print(\"\\nUnique Values per Column:\")\n",
        "# print(data.nunique())\n",
        "\n",
        "missing_values = data.isnull().sum()\n",
        "print(\"\\nMissing Values per Column:\")\n",
        "print(missing_values)"
      ]
    }
  ]
}